{
  "nbformat": 4,
  "nbformat_minor": 0,
  "metadata": {
    "colab": {
      "name": "Assign-2021.ipynb",
      "private_outputs": true,
      "provenance": [],
      "authorship_tag": "ABX9TyO9KQwW5Mw2Nxyx1MA20Hvr",
      "include_colab_link": true
    },
    "kernelspec": {
      "name": "python3",
      "display_name": "Python 3"
    },
    "language_info": {
      "name": "python"
    }
  },
  "cells": [
    {
      "cell_type": "markdown",
      "metadata": {
        "id": "view-in-github",
        "colab_type": "text"
      },
      "source": [
        "<a href=\"https://colab.research.google.com/github/gndedesmu/Intro-Class-Assignment/blob/main/Assign_2021.ipynb\" target=\"_parent\"><img src=\"https://colab.research.google.com/assets/colab-badge.svg\" alt=\"Open In Colab\"/></a>"
      ]
    },
    {
      "cell_type": "code",
      "metadata": {
        "id": "B253csV_3NGu"
      },
      "source": [
        "#First Assignment for Introdcuction to FREE Python Class of Spring 2021\n",
        "#Enter first and last name\n",
        "names = input(\"Enter first and last name\")\n",
        "print(names)\n",
        "print()\n",
        "#Enter your goals for this class\n",
        "print(\"What are your goals for this class - long term goals?\")\n",
        "goals = input('What would you like to be....when all is said and done with the class?')\n",
        "print(goals)"
      ],
      "execution_count": null,
      "outputs": []
    }
  ]
}