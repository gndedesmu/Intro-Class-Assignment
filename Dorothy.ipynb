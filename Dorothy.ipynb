{
  "nbformat": 4,
  "nbformat_minor": 0,
  "metadata": {
    "colab": {
      "name": "Dorothy.ipynb",
      "provenance": [],
      "include_colab_link": true
    },
    "kernelspec": {
      "name": "python3",
      "display_name": "Python 3"
    },
    "language_info": {
      "name": "python"
    }
  },
  "cells": [
    {
      "cell_type": "markdown",
      "metadata": {
        "id": "view-in-github",
        "colab_type": "text"
      },
      "source": [
        "<a href=\"https://colab.research.google.com/github/gndedesmu/Intro-Class-Assignment/blob/main/Dorothy.ipynb\" target=\"_parent\"><img src=\"https://colab.research.google.com/assets/colab-badge.svg\" alt=\"Open In Colab\"/></a>"
      ]
    },
    {
      "cell_type": "code",
      "metadata": {
        "id": "GyJLBMqa2DwZ",
        "colab": {
          "base_uri": "https://localhost:8080/"
        },
        "outputId": "e9a3266e-b7e2-4572-ff34-ce4f7cf5b74a"
      },
      "source": [
        "print(\"Enter fullnames\")\n",
        "input(\"fullnames\")\n",
        "#Enter phone,email\n",
        "print(\"Enter customer's phone number:\")\n",
        "phone=input(\"Phone number:\")\n",
        "print(\"Enter customer's email address:\")\n",
        "email=input(\"email:\")\n",
        "#price of a used car = 10000\n",
        "price = 10000\n",
        "#has_good_credit=True\n",
        "#has_good_credit = True\n",
        "#good_credit=600\n",
        "#has_bad_credit = False\n",
        "\n",
        "\n",
        "print(\"Enter credit score\")\n",
        "creditscore=input(\"creditscore:\")\n",
        "\n",
        "if int(creditscore) >= 600:\n",
        "    downpayment1=(0.1 * price)\n",
        "    print(downpayment1)\n",
        "else:\n",
        "    downpayment2=(0.2 * price)\n",
        "    print(downpayment2)"
      ],
      "execution_count": null,
      "outputs": [
        {
          "output_type": "stream",
          "text": [
            "Enter fullnames\n"
          ],
          "name": "stdout"
        }
      ]
    }
  ]
}