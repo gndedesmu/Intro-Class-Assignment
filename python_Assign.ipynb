{
  "nbformat": 4,
  "nbformat_minor": 0,
  "metadata": {
    "colab": {
      "name": "python-Assign.ipynb",
      "private_outputs": true,
      "provenance": [],
      "authorship_tag": "ABX9TyNzZ65hM7W3PfwMWtvTf3lH",
      "include_colab_link": true
    },
    "kernelspec": {
      "name": "python3",
      "display_name": "Python 3"
    },
    "language_info": {
      "name": "python"
    }
  },
  "cells": [
    {
      "cell_type": "markdown",
      "metadata": {
        "id": "view-in-github",
        "colab_type": "text"
      },
      "source": [
        "<a href=\"https://colab.research.google.com/github/gndedesmu/Intro-Class-Assignment/blob/main/python_Assign.ipynb\" target=\"_parent\"><img src=\"https://colab.research.google.com/assets/colab-badge.svg\" alt=\"Open In Colab\"/></a>"
      ]
    },
    {
      "cell_type": "code",
      "metadata": {
        "id": "KxMeYznYwOr8"
      },
      "source": [
        "#Enter Full Names\n",
        "print(\"Enter First and Last Name:\")\n",
        "fname = input() #First Name\n",
        "lname = input() #last Name\n",
        "fullnames = fname + \" \" + lname\n",
        "\n",
        "#Enter phone, email\n",
        "print(\"Enter Customer's Phone Number: \")\n",
        "phone = input()\n",
        "print(\"Enter Customer's email aaddress: \")\n",
        "email = input()\n",
        "\n",
        "#price of a used car\n",
        "price = 10000\n",
        "has_good_credit = True\n",
        "\n",
        "if has_good_credit:\n",
        "    down_payment = 0.1 * price\n",
        "else:\n",
        "    down_payment = 0.2 * price\n",
        "\n",
        "print(f\"Down Payment: {down_payment}\")\n",
        "print('')\n",
        "print(\"Full Names:\" +fullnames)\n",
        "print(\"Phone: \" +phone)\n",
        "print(\"Email: \" + email)\n",
        "print(\"Down Payment: \", +down_payment)\n",
        "\n",
        "#------------------------------------------------------\n",
        "*ASSIGNMENT #3*:\n",
        "\n",
        "Team, Assuming that Project #2 worked so well and now the company you\n",
        "interned with would like to extend an offer to you. Before they do that,\n",
        "they need your expertise in formulating a tight knit program to help\n",
        "determine the Credit worthiness of their customers before they extend loans \n",
        "to them for buying a car.\n",
        "\n",
        "Below is a working program, but with a few kinks which you, as a Python\n",
        "Developer is required to clear and fix the anomalies for it to function properly.\n",
        "\n",
        "This is the Program below with a few mistakes (Syntax and Logical errors) FIX IT:\n",
        "\n",
        "#........ and shoot for the Sky in you getting a big promotion & opportunity\n",
        "#Enter Full Names\n",
        "print\"Enter First and Last Name:\")\n",
        "fname = input(fname) #First Name\n",
        "lname = input(lname): #last Name\n",
        "fullnames = fname + \" \" + lname\n",
        "\n",
        "#Enter phone, email\n",
        "print('Enter Customer's Phone Number: \")\n",
        "phone = input(phone)\n",
        "print(Enter Customer's email aaddress: ')\n",
        "email = input(email)\n",
        "\n",
        "#price of a used car\n",
        "price = 10000:\n",
        "has_good_credit = True;\n",
        "\n",
        "if has_good_credit:\n",
        "    down_payment = 0.1 * price\n",
        "else:\n",
        "    down_payment = 0.2 * price\n",
        "\n",
        "print(fDown Payment: {down_payment}\")\n",
        "print('')\n",
        "print(\"Full Names:\", +fullnames)\n",
        "print(\"Phone: \" +phone)\n",
        "print(\"Email: \" + email)\n",
        "print(\"Down Payment: ;, +down_payment)\n",
        "\n",
        "*This below: is the Expected output:*\n",
        "\n",
        "*Full Names:* Benard Njoroge Otieno\n",
        "*Phone:* 872-098-9876\n",
        "*Email:* UsedCarSalesman@gmail.com\n",
        "*Down Payment:*  1000.0"
      ],
      "execution_count": null,
      "outputs": []
    }
  ]
}