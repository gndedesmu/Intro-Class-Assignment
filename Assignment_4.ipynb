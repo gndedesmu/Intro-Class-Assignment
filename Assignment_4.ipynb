{
  "nbformat": 4,
  "nbformat_minor": 0,
  "metadata": {
    "colab": {
      "name": "Assignment-4.ipynb",
      "provenance": [],
      "collapsed_sections": [],
      "include_colab_link": true
    },
    "kernelspec": {
      "name": "python3",
      "display_name": "Python 3"
    },
    "language_info": {
      "name": "python"
    }
  },
  "cells": [
    {
      "cell_type": "markdown",
      "metadata": {
        "id": "view-in-github",
        "colab_type": "text"
      },
      "source": [
        "<a href=\"https://colab.research.google.com/github/gndedesmu/Intro-Class-Assignment/blob/main/Assignment_4.ipynb\" target=\"_parent\"><img src=\"https://colab.research.google.com/assets/colab-badge.svg\" alt=\"Open In Colab\"/></a>"
      ]
    },
    {
      "cell_type": "code",
      "metadata": {
        "id": "VyTXPGpkxI0X"
      },
      "source": [
        "#Good job, Nancy."
      ],
      "execution_count": null,
      "outputs": []
    },
    {
      "cell_type": "code",
      "metadata": {
        "id": "kHJIYIDfyWg8",
        "colab": {
          "base_uri": "https://localhost:8080/"
        },
        "outputId": "30738050-5792-44a9-d82f-1a6e64c31750"
      },
      "source": [
        "#Enter first and last name\n",
        "names = input(\"Enter first and last name: \")\n",
        "print(names)\n",
        "print() \n",
        "#Enter your goals for this class\n",
        "print(\"What are your goals for this class - long term goatls?\")\n",
        "goals = input('What would you like to be.....when all is said and done with the class?.....I would like to be a Python Guru')\n",
        "print(goals)"
      ],
      "execution_count": null,
      "outputs": [
        {
          "output_type": "stream",
          "text": [
            "Enter first and last nameNancy\n",
            "Nancy\n",
            "\n",
            "What are your goals for this class - long term goatls?\n",
            "What would you like to be.....when all is said and done with the class?.....I would like to be a Python GuruA Python\n",
            "A Python\n"
          ],
          "name": "stdout"
        }
      ]
    },
    {
      "cell_type": "code",
      "metadata": {
        "id": "g7S6G3ADyw5b"
      },
      "source": [
        "#ASSIGNMENT #4: YOU HAVE BEEN HIRED FINALLY BY THE 21 Century as a Senior Programmer and you've been tasked to help\n",
        "#in revamping their credit rating system and loan issuing system. Just remember, your job is to make things happen.\n",
        "#As a Sr. Developer in Python Programming, all the lights and attention are turned towards you and there is a job to be\n",
        "#done to deliver this critical system on time.\n",
        "\n",
        "#Your job is to design a simple program to allow the loan officer(s) to enter the customer particulars at the terminal and\n",
        "#determine if a customer is credit worthy. \n",
        "\n",
        "#Based on their looan officer's entry, your system is required to get the best desired resired as shown below in the OUTPUT.\n",
        "\n",
        "#Please design a program to do the input entry, do the desired calculations and come up with the needed requirements and output them as needed.\n",
        "#Please consider all the needed variable. If you need to add any, please do add if need is there. Good luck.\n",
        "\n",
        "\n",
        "#Enter the price of the House you wish to Buy\n",
        "print(\"Enter the house price\")\n",
        "price = input()\n",
        "\n",
        "#Enter the price of the House you wish to Buy\n",
        "print(\"Enter the credit Score\")\n",
        "CreditScore = input()\n",
        "\n",
        "#Enter the first name\n",
        "print(\"Enter the first name\")\n",
        "first_name = input()\n",
        "\n",
        "#Enter the last name\n",
        "print(\"Enter the last name\")\n",
        "last_name = input()\n",
        "\n",
        "fullname = first_name + \" \" + last_name\n",
        "\n",
        "#Enter the email\n",
        "print(\"Enter the email address\")\n",
        "email = input()\n",
        "\n",
        "#Enter the phone number\n",
        "print(\"Enter the phone number\")\n",
        "phone = input()\n",
        "\n",
        "#Enter the mailing\n",
        "print(\"Enter the mailing address\")\n",
        "input()\n",
        "\n",
        "#Enter the mailing\n",
        "print(\"Enter the City\")\n",
        "city = input()\n",
        "\n",
        "#Enter the mailing\n",
        "print(\"Enter the zip code\")\n",
        "zipcode = input()\n",
        "\n",
        "\n",
        "#Qualify for loans with the best interest rates\n",
        "CreditScore >= 780 AND 850\n",
        "print \"Excent Credit\"\n",
        "print(\"Zero Down Payment\")\n",
        "downPayment = 0.10 * price\n",
        "\n",
        "#Usually qualify for loans with the best interest rates\n",
        "CreditScore >= 740 AND 779\n",
        "print(\"Very Good\")\n",
        "downPayment = 0.1 * price\n",
        "\n",
        "#May face slightly higher loan Interest rates\n",
        "CreditScore >= 720 AND 739\n",
        "print(\"Above Average\")\n",
        "downPayment = 0.3 * price\n",
        "\n",
        "#May qualify for most loans of higher interest rates\n",
        "CreditScore >= 680 AND 719\n",
        "print(\"Average\")\n",
        "downPayment = 0.6 * price\n",
        "\n",
        "#May qualify for most loans at significant higher Interest rates\n",
        "CreditScore >= 620 AND 679\n",
        "print(\"Below Average\")\n",
        "downPayment = 0.18 * price\n",
        "\n",
        "#Usually has some credit issues; will probably not qualify for most loans\n",
        "CreditScore >= 580 AND 619\n",
        "print(\"Poor Credit Score\")\n",
        "downPayment = 0.20 * price\n",
        "\n",
        "#Facing extreme credit issues\n",
        "CreditScore < 520\n",
        "print(\"Poor Credit Score\")\n",
        "downPayment = 0.25 * price\n",
        "\n",
        "\n",
        "=================================================\n",
        "OUTPUT OF THE PROGRAM \n",
        "=================================================\n",
        "First Name: James Mutiso Mutisya\n",
        "Physical Address: 435 Hidden Special Place\n",
        "City: Kalamzoo State: Michigan Zipcode: 49001\n",
        "\n",
        "New House Price: 245,000.00\n",
        "Down Payment: 20,000.00\n",
        "Credit Score: 679\n",
        "Credit Status: Below Average\n",
        "\n",
        "CONGRATULATIONS - YOU NOW OWN YOUR DREAM HOME - James Mutiso & Lucy Mutisya\n",
        "=============================================================================\n"
      ],
      "execution_count": null,
      "outputs": []
    }
  ]
}