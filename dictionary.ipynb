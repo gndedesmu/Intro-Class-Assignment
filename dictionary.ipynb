{
  "nbformat": 4,
  "nbformat_minor": 0,
  "metadata": {
    "colab": {
      "name": "dictionary.ipynb",
      "provenance": [],
      "include_colab_link": true
    },
    "kernelspec": {
      "name": "python3",
      "display_name": "Python 3"
    }
  },
  "cells": [
    {
      "cell_type": "markdown",
      "metadata": {
        "id": "view-in-github",
        "colab_type": "text"
      },
      "source": [
        "<a href=\"https://colab.research.google.com/github/gndedesmu/Intro-Class-Assignment/blob/main/dictionary.ipynb\" target=\"_parent\"><img src=\"https://colab.research.google.com/assets/colab-badge.svg\" alt=\"Open In Colab\"/></a>"
      ]
    },
    {
      "cell_type": "code",
      "metadata": {
        "id": "84BHegfYYJZU"
      },
      "source": [
        "\n",
        "import numpy as np\n",
        "def searchUser(name):\n",
        "    found=False\n",
        "    data=np.genfromtxt(r'/content/data.txt', delimiter=' ',names=True,dtype=None,encoding=None)\n",
        "    #print(data)\n",
        "    for i in data:\n",
        "        if name ==i[0]:\n",
        "            found=True\n",
        "            print('Name: ', i[0])\n",
        "            print('Email: ',i[2])\n",
        "            print('Phone: ',i[1])\n",
        "    if found==False:\n",
        "            print(\"No contact with that name\")\n",
        "\n",
        "name=input(\"Please enter name to search: \")\n",
        "searchUser(name)"
      ],
      "execution_count": null,
      "outputs": []
    },
    {
      "cell_type": "code",
      "metadata": {
        "colab": {
          "base_uri": "https://localhost:8080/"
        },
        "id": "MCY1FWMkkgu9",
        "outputId": "e4b215d3-cb15-47ba-e1bf-f1dc2f8c204a"
      },
      "source": [
        " def print_menu():\n",
        "    print('1. List Phone Numbers')\n",
        "    print('2. Add a Contact')\n",
        "    print('3. Remove a Contact')\n",
        "    print('4. Update a Contact')\n",
        "    print('5. Lookup a Contacts by Number')\n",
        "    print('Q. Quit')\n",
        "    print()\n",
        "\n",
        "numbers = {}\n",
        "menu_choice = 0\n",
        "print_menu()\n",
        "while menu_choice != 5:\n",
        "    menu_choice = int(input(\"Type in a number (1-5 or Q): \"))\n",
        "    if menu_choice == 1:\n",
        "        print(\"Telephone Numbers:\")\n",
        "        for x in numbers.keys():\n",
        "            print(\"Name: \", x, \"\\tNumber:\", numbers[x])\n",
        "        print()\n",
        "    elif menu_choice == 2:\n",
        "        print(\"Add Name and Number\")\n",
        "        name = input(\"Name: \")\n",
        "        phone = input(\"Number: \")\n",
        "        numbers[name] = phone\n",
        "    elif menu_choice == 3:\n",
        "        print(\"Remove Name and Number\")\n",
        "        name = input(\"Name: \")\n",
        "        if name in numbers:\n",
        "            del numbers[name]\n",
        "        else:\n",
        "            print(name, \"was not found\")\n",
        "    elif menu_choice == 4:\n",
        "        print(\"Lookup Number\")\n",
        "        name = input(\"Name: \")\n",
        "        if name in numbers:\n",
        "            print(\"The number is\", numbers[name])\n",
        "        else:\n",
        "            print(name, \"was not found\")\n",
        "    elif menu_choice != 5:\n",
        "        print_menu()"
      ],
      "execution_count": null,
      "outputs": [
        {
          "output_type": "stream",
          "text": [
            "1. List Phone Numbers\n",
            "2. Add a Contact\n",
            "3. Remove a Contact\n",
            "4. Update a Contact\n",
            "5. Lookup a Contacts by Number\n",
            "Q. Quit\n",
            "\n"
          ],
          "name": "stdout"
        }
      ]
    }
  ]
}