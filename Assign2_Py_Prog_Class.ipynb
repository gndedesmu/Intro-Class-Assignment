{
  "nbformat": 4,
  "nbformat_minor": 0,
  "metadata": {
    "colab": {
      "name": "Assign2-Py-Prog-Class.ipynb",
      "private_outputs": true,
      "provenance": [],
      "authorship_tag": "ABX9TyM+/djsGx5bPlpOkDrTNhsF",
      "include_colab_link": true
    },
    "kernelspec": {
      "name": "python3",
      "display_name": "Python 3"
    },
    "language_info": {
      "name": "python"
    }
  },
  "cells": [
    {
      "cell_type": "markdown",
      "metadata": {
        "id": "view-in-github",
        "colab_type": "text"
      },
      "source": [
        "<a href=\"https://colab.research.google.com/github/gndedesmu/Intro-Class-Assignment/blob/main/Assign2_Py_Prog_Class.ipynb\" target=\"_parent\"><img src=\"https://colab.research.google.com/assets/colab-badge.svg\" alt=\"Open In Colab\"/></a>"
      ]
    },
    {
      "cell_type": "code",
      "metadata": {
        "id": "b8CuvHOe32C_"
      },
      "source": [
        "#Assuming that the first assignment worked and your program is running perfectly. \n",
        "#You are in a jubilation mode. You now want to take it a notch higher. \n",
        "#So, in your nature as a risk taker, you decided to design another program. \n",
        "#Only that this time the Program is lengthy and more meaningful. You design the following program. \n",
        "\n",
        "#Design a program to accept as a user input:\n",
        "\n",
        "#1.] Your first and last names\n",
        "#2.] Your last name\n",
        "#3.} Your country of Origin\n",
        "#4.] Enter the nature of your current job\n",
        "#5.] Enter your email addresss (does not have to be the real email address)\n",
        "#6.] Enter your phone number(does not have to be the real phone number)\n",
        "#7.] Enter your current city of residence (Does not have to be your current city)\n",
        "#8.] Enter your Mailing address/ Physical address (Does not have to be your real address)\n",
        "\n",
        "print('Enter first: ')\n",
        "fname = input()\n",
        "print('Enter Last: ')\n",
        "lname = input()\n",
        "fullnames = fname + \" \" + lname\n",
        "\n",
        "print(\"Country of Origin:\")\n",
        "country = input()\n",
        "print(\"Enter nature of your current job: \")\n",
        "job = input()\n",
        "print(\"Email address: \")\n",
        "email = input()\n",
        "print('Phone number')\n",
        "phone = input()\n",
        "print(\"Enter city of residence: \")\n",
        "city = input()\n",
        "print(\"Enter mailing address: \")\n",
        "address = input()\n",
        "print(\"\")\n",
        "##Print out the output in the following format:\n",
        "#=============================================\n",
        "print(\"Full Names: \" + fullnames)\n",
        "print(\"Country: \" +country)\n",
        "print(\"Nature of Work: \", job)\n",
        "print(\"Email Address: \", email)\n",
        "print(\"Phone: \" + phone)\n",
        "print(\"City: \" + city)\n",
        "print(\"Address: \", address)\n",
        "#=============================================\n",
        "#Name: Koffi Olomide\n",
        "#Country: Democratic Republic of The Congo\n",
        "#Profession: Mucisian\n",
        "#Email: Koffi.Olomide@koffiolomide.com\n",
        "#Phone: +253876564523\n",
        "#City: Kinshasa\n",
        "#Address: 654E Main Street\n",
        "#=============================================\n",
        "\n",
        "#Once done, run the program. Let it generate the output and you capture a screenshot.\n",
        "#Upload the program and the screenshot all together to the GitHub repository then send \n",
        "#me a link with the location of the repository.\n",
        "\n",
        "#Nice work and good Luck !!!!!!!!!\n",
        "#============================================="
      ],
      "execution_count": null,
      "outputs": []
    }
  ]
}