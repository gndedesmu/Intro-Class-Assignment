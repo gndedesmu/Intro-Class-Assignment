{
  "nbformat": 4,
  "nbformat_minor": 0,
  "metadata": {
    "colab": {
      "name": "Types_of_functions.ipynb",
      "private_outputs": true,
      "provenance": [],
      "authorship_tag": "ABX9TyOleZSAH/1eV9px6TOsVrkd",
      "include_colab_link": true
    },
    "kernelspec": {
      "name": "python3",
      "display_name": "Python 3"
    },
    "language_info": {
      "name": "python"
    }
  },
  "cells": [
    {
      "cell_type": "markdown",
      "metadata": {
        "id": "view-in-github",
        "colab_type": "text"
      },
      "source": [
        "<a href=\"https://colab.research.google.com/github/gndedesmu/Intro-Class-Assignment/blob/main/Types_of_functions.ipynb\" target=\"_parent\"><img src=\"https://colab.research.google.com/assets/colab-badge.svg\" alt=\"Open In Colab\"/></a>"
      ]
    },
    {
      "cell_type": "code",
      "metadata": {
        "id": "_dAyN_Seg-UY"
      },
      "source": [
        "# Function definition is here\n",
        "def names( capitals ):\n",
        "   \"This changes a passed list into this function\"\n",
        "   #This would assign new reference capitals\n",
        "   capitals = [\"Egypt\",\"Ghana\",\"Senegal\",\"DRC\"]; \n",
        "   print (\"Values inside the function: \", capitals)\n",
        "   return\n",
        "# Now you can call names function\n",
        "capitals = [\"Cairo\",\"Accra\",\"Dakkar\",\"Kinshasha\"];\n",
        "names( capitals );\n",
        "print (\"Values outside the function: \", capitals)\n"
      ],
      "execution_count": null,
      "outputs": []
    },
    {
      "cell_type": "code",
      "metadata": {
        "id": "NiKkdCTThIu-"
      },
      "source": [
        "# Function definition is here\n",
        "def changeme( mylist ):\n",
        "   \"This changes a passed list into this function\"\n",
        "   mylist = [1,2,3,4]; # This would assig new reference in mylist\n",
        "   print (\"Values inside the function: \", mylist)\n",
        "   return\n",
        "\n",
        "# Now you can call changeme function\n",
        "mylist = [10,20,30];\n",
        "changeme( mylist );\n",
        "print (\"Values outside the function: \", mylist)\n"
      ],
      "execution_count": null,
      "outputs": []
    },
    {
      "cell_type": "code",
      "metadata": {
        "id": "2QRIuITbp9jC"
      },
      "source": [
        "# Function definition\n",
        "def printinfo( fname, lname, age, grade ):\n",
        "   \"This prints a passed info into this function\"\n",
        "   print (\"Name:\", fname)\n",
        "   print (\"Name:\", lname)\n",
        "   print (\"Age\", age)\n",
        "   print (\"Grade:\", grade)\n",
        "   return;\n",
        "\n",
        "# Now you can call printinfo function here\n",
        "printinfo( age=10, fname=\"Thomas\", lname=\"Malala\", grade=4 )"
      ],
      "execution_count": null,
      "outputs": []
    },
    {
      "cell_type": "code",
      "metadata": {
        "id": "0pewfl3pvFsA"
      },
      "source": [
        "# Lambda Function definition is here\n",
        "sum = lambda arg1, arg2: arg1 + arg2;\n",
        "sub = lambda arg1, arg2: arg1 - arg2;\n",
        "mul = lambda arg1, arg2: arg1 * arg2;\n",
        "div = lambda arg1, arg2: arg1 / arg2;\n",
        "# Now you can call sum as a function\n",
        "print(\"Value of total : \", sum( 10, 20 ))\n",
        "print (\"Value of total : \", sum( 20, 20))\n",
        "# Now you can call sub as a function\n",
        "print(\"Value of diff: \", sub(30, 20))\n",
        "# Now you can call mul as a function\n",
        "print(\"Value of product: \", mul(10, 30))\n",
        "# Now you can call div as a function\n",
        "print(\"Value of Quot: \", div(30, 4))"
      ],
      "execution_count": null,
      "outputs": []
    }
  ]
}