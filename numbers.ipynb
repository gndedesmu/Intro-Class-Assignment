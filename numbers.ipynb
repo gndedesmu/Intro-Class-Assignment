{
  "nbformat": 4,
  "nbformat_minor": 0,
  "metadata": {
    "colab": {
      "name": "numbers.ipynb",
      "private_outputs": true,
      "provenance": [],
      "authorship_tag": "ABX9TyOQm7Osr6GaCuOY40FbKqUZ",
      "include_colab_link": true
    },
    "kernelspec": {
      "name": "python3",
      "display_name": "Python 3"
    },
    "language_info": {
      "name": "python"
    }
  },
  "cells": [
    {
      "cell_type": "markdown",
      "metadata": {
        "id": "view-in-github",
        "colab_type": "text"
      },
      "source": [
        "<a href=\"https://colab.research.google.com/github/gndedesmu/Intro-Class-Assignment/blob/main/numbers.ipynb\" target=\"_parent\"><img src=\"https://colab.research.google.com/assets/colab-badge.svg\" alt=\"Open In Colab\"/></a>"
      ]
    },
    {
      "cell_type": "code",
      "metadata": {
        "id": "cNdDy37wd40v"
      },
      "source": [
        "#A Typical Example of a Nested If statement Statement\n",
        "number = int(input(\"Enter number: \"))\n",
        "if number%2 == 0:\n",
        "   if number%3 == 0:\n",
        "      print (\"Divisible by 3 and 2\")\n",
        "   else:\n",
        "      print (\"Divisible by 2 not divisible by 3\")\n",
        "else:\n",
        "   if number%3 == 0:\n",
        "      print (\"Divisible by 3 not divisible by 2\")\n",
        "   else:\n",
        "      print  (\"Not Divisible by 2 not divisible by 3\")"
      ],
      "execution_count": null,
      "outputs": []
    }
  ]
}