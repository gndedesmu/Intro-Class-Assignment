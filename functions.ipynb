{
  "nbformat": 4,
  "nbformat_minor": 0,
  "metadata": {
    "colab": {
      "name": "functions.ipynb",
      "private_outputs": true,
      "provenance": [],
      "authorship_tag": "ABX9TyOXz5g/cvPQs/hmooz7CqLX",
      "include_colab_link": true
    },
    "kernelspec": {
      "name": "python3",
      "display_name": "Python 3"
    },
    "language_info": {
      "name": "python"
    }
  },
  "cells": [
    {
      "cell_type": "markdown",
      "metadata": {
        "id": "view-in-github",
        "colab_type": "text"
      },
      "source": [
        "<a href=\"https://colab.research.google.com/github/gndedesmu/Intro-Class-Assignment/blob/main/functions.ipynb\" target=\"_parent\"><img src=\"https://colab.research.google.com/assets/colab-badge.svg\" alt=\"Open In Colab\"/></a>"
      ]
    },
    {
      "cell_type": "code",
      "metadata": {
        "id": "_dAyN_Seg-UY"
      },
      "source": [
        "# Function definition is here\n",
        "def names( capitals ):\n",
        "   \"This changes a passed list into this function\"\n",
        "   #This would assign new reference capitals\n",
        "   capitals = [\"Egypt\",\"Ghana\",\"Senegal\",\"DRC\"]; \n",
        "   print (\"Values inside the function: \", capitals)\n",
        "   return\n",
        "# Now you can call names function\n",
        "capitals = [\"Cairo\",\"Accra\",\"Dakkar\",\"Kinshasha\"];\n",
        "names( capitals );\n",
        "print (\"Values outside the function: \", capitals)\n"
      ],
      "execution_count": null,
      "outputs": []
    },
    {
      "cell_type": "code",
      "metadata": {
        "id": "NiKkdCTThIu-"
      },
      "source": [
        "# Function definition is here\n",
        "def changeme( mylist ):\n",
        "   \"This changes a passed list into this function\"\n",
        "   mylist = [1,2,3,4]; # This would assig new reference in mylist\n",
        "   print \"Values inside the function: \", mylist\n",
        "   return\n",
        "\n",
        "# Now you can call changeme function\n",
        "mylist = [10,20,30];\n",
        "changeme( mylist );\n",
        "print \"Values outside the function: \", mylist\n"
      ],
      "execution_count": null,
      "outputs": []
    }
  ]
}