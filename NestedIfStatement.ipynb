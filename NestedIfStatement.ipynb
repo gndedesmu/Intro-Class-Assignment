{
  "nbformat": 4,
  "nbformat_minor": 0,
  "metadata": {
    "colab": {
      "name": "NestedIfStatement.ipynb",
      "private_outputs": true,
      "provenance": [],
      "authorship_tag": "ABX9TyOAsQk5PKXLHpQirREMKd9u",
      "include_colab_link": true
    },
    "kernelspec": {
      "name": "python3",
      "display_name": "Python 3"
    },
    "language_info": {
      "name": "python"
    }
  },
  "cells": [
    {
      "cell_type": "markdown",
      "metadata": {
        "id": "view-in-github",
        "colab_type": "text"
      },
      "source": [
        "<a href=\"https://colab.research.google.com/github/gndedesmu/Intro-Class-Assignment/blob/main/NestedIfStatement.ipynb\" target=\"_parent\"><img src=\"https://colab.research.google.com/assets/colab-badge.svg\" alt=\"Open In Colab\"/></a>"
      ]
    },
    {
      "cell_type": "code",
      "metadata": {
        "id": "HOS-CasO6gsJ"
      },
      "source": [
        "#A Typical Example of a Nested If statement\n",
        "number = int(input(\"Enter number: \"))\n",
        "if number%2 == 0: \n",
        "   if number%3 == 0: \n",
        "      print (\"Divisible by 3 and 2\")\n",
        "   else:\n",
        "      print (\"Divisible by 2 not divisible by 3\")\n",
        "else:\n",
        "   if number%3 == 0:\n",
        "      print (\"Divisible by 3 not divisible by 2\")\n",
        "   else:\n",
        "      print  (\"Not Divisible by 2 not divisible by 3\")"
      ],
      "execution_count": null,
      "outputs": []
    },
    {
      "cell_type": "code",
      "metadata": {
        "id": "4PhPuIP_6jvC"
      },
      "source": [
        "flag = True\n",
        "if flag:\n",
        "    print(\"Welcome to Safaricom\")\n",
        "else: \n",
        "    print(\"Welcome to AirTel\")"
      ],
      "execution_count": null,
      "outputs": []
    },
    {
      "cell_type": "code",
      "metadata": {
        "id": "a6tI7d5e8Wbv"
      },
      "source": [
        "flag = False\n",
        "if flag:\n",
        "    print(\"Welcome to Safaricom\")\n",
        "else: \n",
        "    print(\"Welcome to AirTel\")"
      ],
      "execution_count": null,
      "outputs": []
    },
    {
      "cell_type": "code",
      "metadata": {
        "id": "n0H9xT6M_37p"
      },
      "source": [
        "names = (\"Irene\",\"Dorothy\",\"Esther\",\"George\")\n",
        "for dorothy in names:\n",
        "    print(dorothy)"
      ],
      "execution_count": null,
      "outputs": []
    },
    {
      "cell_type": "code",
      "metadata": {
        "id": "lEzYO00VETC8"
      },
      "source": [
        "numbers = [1, 2, 4, 6, 11, 20]\n",
        "# variable to store the square of each num temporary\n",
        "square = 0\n",
        " \n",
        "# iterating over the given list\n",
        "for values in numbers:\n",
        "    # calculating square of each number\n",
        "    square = values * values\n",
        "    # displaying the squares\n",
        "    print(square)\n"
      ],
      "execution_count": null,
      "outputs": []
    },
    {
      "cell_type": "code",
      "metadata": {
        "id": "vbuaxGmJE_5B"
      },
      "source": [
        "fruits = [\"Mango\",\"Passion\",\"Pawpaw\",\"Pinneaple\",\"Berry\"]\n",
        "for matunda in fruits:\n",
        "  print(matunda)\n",
        "  if matunda == \"Pawpaw\":\n",
        "    break"
      ],
      "execution_count": null,
      "outputs": []
    },
    {
      "cell_type": "code",
      "metadata": {
        "id": "WvFMsG5qK_CY"
      },
      "source": [
        "fruits = [\"Lemon\", \"apple\", \"banana\", \"Avocado\", \"cherry\",\"Papaya\"]\n",
        "for fruit in fruits:\n",
        "  if fruit == \"Avocado\":\n",
        "    break\n",
        "  print(fruit)"
      ],
      "execution_count": null,
      "outputs": []
    },
    {
      "cell_type": "code",
      "metadata": {
        "id": "IIuBt2DgLrDA"
      },
      "source": [
        "fruits = [\"Lemon\", \"apple\", \"banana\", \"Avocado\", \"cherry\",\"Papaya\"]\n",
        "for fruit in fruits:\n",
        "  if fruit == \"apple\":\n",
        "    continue\n",
        "  print(fruit)"
      ],
      "execution_count": null,
      "outputs": []
    },
    {
      "cell_type": "code",
      "metadata": {
        "id": "PdVuL3HdMbqx"
      },
      "source": [
        "for fruit in range(10):\n",
        "  print(fruit)"
      ],
      "execution_count": null,
      "outputs": []
    },
    {
      "cell_type": "code",
      "metadata": {
        "id": "3Nta4zAWMvk1"
      },
      "source": [
        "for fruit in range(2, 9):\n",
        "  print(fruit)"
      ],
      "execution_count": null,
      "outputs": []
    },
    {
      "cell_type": "code",
      "metadata": {
        "id": "gT9A4--vNM4P"
      },
      "source": [
        "for fruit in range(3, 50, 4):\n",
        "  print(fruit)"
      ],
      "execution_count": null,
      "outputs": []
    },
    {
      "cell_type": "code",
      "metadata": {
        "id": "LSHs-mmrN3os"
      },
      "source": [
        "for fruit in range(10):\n",
        "  print(fruit)\n",
        "else:\n",
        "  print(\"Finally done!\")"
      ],
      "execution_count": null,
      "outputs": []
    },
    {
      "cell_type": "code",
      "metadata": {
        "id": "fLUqd4PFOm1d"
      },
      "source": [
        "myStr = \"jargon\"\n",
        "for i in myStr:\n",
        "\tprint(i)\n",
        "else:\n",
        "\tprint(\"no break found\")"
      ],
      "execution_count": null,
      "outputs": []
    },
    {
      "cell_type": "code",
      "metadata": {
        "id": "AxXWJnLlGuNb"
      },
      "source": [
        "#sequence = \"Mangoes\"\n",
        "for variable in \"Mango\":#,\"Pineapple\",\"Avocado\",\"Guava\":\n",
        "  print(variable)\n",
        "  "
      ],
      "execution_count": null,
      "outputs": []
    },
    {
      "cell_type": "code",
      "metadata": {
        "id": "Ah2gqCTyPamS"
      },
      "source": [
        "myStr = \"myself\"\n",
        "for i in myStr:\n",
        "\tif i == \"s\":\n",
        "\t\tprint(i)\n",
        "else:\n",
        "\tprint(\"no break found\")"
      ],
      "execution_count": null,
      "outputs": []
    },
    {
      "cell_type": "code",
      "metadata": {
        "id": "ZjP8ZJ3wQTOT"
      },
      "source": [
        "adjective = [\"red\", \"big\", \"tasty\"]\n",
        "fruits = [\"apple\", \"banana\", \"cherry\"]\n",
        "for describe in adjective:\n",
        "  for name in fruits:\n",
        "    print(describe, name)\n",
        "\n",
        "\n",
        "\n"
      ],
      "execution_count": null,
      "outputs": []
    },
    {
      "cell_type": "code",
      "metadata": {
        "id": "ZXtNlDbwTTkQ"
      },
      "source": [
        "index = 1\n",
        "while index < 10:\n",
        "  print(index)\n",
        "  index += 5"
      ],
      "execution_count": null,
      "outputs": []
    },
    {
      "cell_type": "code",
      "metadata": {
        "id": "ms2ZyoyaUD0e"
      },
      "source": [
        "index = 1\n",
        "while index < 6:\n",
        "  print(index)\n",
        "  if index == 3:\n",
        "    break\n",
        "  index += 1"
      ],
      "execution_count": null,
      "outputs": []
    },
    {
      "cell_type": "code",
      "metadata": {
        "id": "y6uvV8MoUu2e"
      },
      "source": [
        "index = 0\n",
        "while index < 15:\n",
        "  index += 1\n",
        "  if index == 14:\n",
        "    continue\n",
        "  print(index)\n"
      ],
      "execution_count": null,
      "outputs": []
    },
    {
      "cell_type": "code",
      "metadata": {
        "id": "yso2hqxKVcbn"
      },
      "source": [
        "index = 1\n",
        "while index < 10:\n",
        "  print(index)\n",
        "  index += 1\n",
        "else:\n",
        "  print(\"index is no longer less than 10\")"
      ],
      "execution_count": null,
      "outputs": []
    },
    {
      "cell_type": "code",
      "metadata": {
        "id": "7m68RMD78_KP"
      },
      "source": [
        "number = 42\n",
        "if number % 2 == 0:\n",
        "    print(\"Even Number\") ## True\n",
        "else:\n",
        "    print(\"Odd Number\")  ## False\n"
      ],
      "execution_count": null,
      "outputs": []
    },
    {
      "cell_type": "code",
      "metadata": {
        "id": "6gn-2Xxh9Eaw"
      },
      "source": [
        "number = 33\n",
        "if number % 2 != 0:\n",
        "    print(\"Even Number\")\n",
        "else:\n",
        "    print(\"Odd Number\")"
      ],
      "execution_count": null,
      "outputs": []
    },
    {
      "cell_type": "code",
      "metadata": {
        "id": "FUzPfOin9VhK"
      },
      "source": [
        "if condition:\n",
        "   code_block_of_1\n",
        "elif condition_2:\n",
        "   code_block_of_2\n",
        "elif condition_3:\n",
        "   code_block_of_3\n",
        "..\n",
        "..\n",
        "..\n",
        "else:\n",
        "  Code_block_of_n\n"
      ],
      "execution_count": null,
      "outputs": []
    },
    {
      "cell_type": "code",
      "metadata": {
        "id": "fUwz60VZ9cj6"
      },
      "source": [
        "Rainy = False\n",
        "if Rainy:\n",
        "   print(\"Carry Umbrella and wear Boot\")\n",
        "elif Rainy:\n",
        "   print(\"Carry no Umbrella and Weather T-Sirt\")\n",
        "elif condition_3:\n",
        "   print(\"Stay home and avoid going outside\")\n",
        "#..\n",
        "#..\n",
        "#..\n",
        "else:\n",
        "  print(\"Do nothing\")\n"
      ],
      "execution_count": null,
      "outputs": []
    },
    {
      "cell_type": "code",
      "metadata": {
        "id": "vj3Dh181_Kqm"
      },
      "source": [
        "# If the number is positive, we print an appropriate message\n",
        "\n",
        "num = 3\n",
        "if num > 0:\n",
        "    print(num, \"is a positive number.\")\n",
        "print(\"This is always printed.\")\n",
        "\n",
        "num = -1\n",
        "if num > 0:\n",
        "    print(num, \"is a positive number.\")\n",
        "print(\"This is also always printed.\")"
      ],
      "execution_count": null,
      "outputs": []
    },
    {
      "cell_type": "code",
      "metadata": {
        "id": "6LMSpIHmBFyo"
      },
      "source": [
        "#Define variables\n",
        "room = \"Bedroom\"\n",
        "area = 14.0\n",
        "\n",
        "#if-elif-else construct for room\n",
        "if room == \"Kitchen\":\n",
        "  print(\"Looking around in the Kitchen. \")\n",
        "elif room == \"Bedroom\":\n",
        "  print(\"Looking around in the bedroom.\")\n",
        "else:\n",
        "  print(\"Looking around elsewhere.\")\n",
        "\n",
        "#If-elif-else construct for area\n",
        "if area > 15:\n",
        "  print(\"Big place!\")\n",
        "else:\n",
        "  print(\"Pretty small room\")  \n"
      ],
      "execution_count": null,
      "outputs": []
    },
    {
      "cell_type": "code",
      "metadata": {
        "id": "Rfowx5jkZgjr"
      },
      "source": [
        "First Name = \"John\"\n",
        "print(First Name)"
      ],
      "execution_count": null,
      "outputs": []
    },
    {
      "cell_type": "code",
      "metadata": {
        "id": "qXYoLR8RbiVp"
      },
      "source": [
        "FirstName = \"Monicah\"\n",
        "LastName = \"Njaaga\"\n",
        "print(FirstName + LastName)"
      ],
      "execution_count": null,
      "outputs": []
    },
    {
      "cell_type": "code",
      "metadata": {
        "id": "0X0D7jdecLg-"
      },
      "source": [
        "2**3**2"
      ],
      "execution_count": null,
      "outputs": []
    },
    {
      "cell_type": "code",
      "metadata": {
        "id": "La-pySyYQ6GQ"
      },
      "source": [
        "x = 4\n",
        "y = 4\n",
        "print(x ** y)\n",
        "print(x // y)"
      ],
      "execution_count": null,
      "outputs": []
    },
    {
      "cell_type": "code",
      "metadata": {
        "id": "5I7Kq5-Rcfou"
      },
      "source": [
        "Number1 = 4\n",
        "Number2 = 4\n",
        "Sum = Number1 + Number2\n",
        "print(\"sum\")"
      ],
      "execution_count": null,
      "outputs": []
    },
    {
      "cell_type": "code",
      "metadata": {
        "id": "AHQQjkkXK1QI"
      },
      "source": [
        "# Program to print squares of all numbers present in a list\n",
        "# List of integer numbers\n",
        "numbers = [1, 2, 4, 6, 11, 20]\n",
        "# variable to store the square of each num temporary\n",
        "square = 0"
      ],
      "execution_count": null,
      "outputs": []
    },
    {
      "cell_type": "code",
      "metadata": {
        "id": "hty-TKfhLcht"
      },
      "source": [
        "# iterating over the given list\n",
        "for value in numbers:\n",
        "    # calculating square of each number\n",
        "    square = value * value\n",
        "    # displaying the squares\n",
        "    print(square)"
      ],
      "execution_count": null,
      "outputs": []
    },
    {
      "cell_type": "code",
      "metadata": {
        "id": "Wjj_ycrKRNKp"
      },
      "source": [
        "print(\"Enter Fullnames: \")\n",
        "fullnames = input()\n",
        "#input(\"fullnames\")\n",
        "#Enter phone,email\n",
        "print(\"Enter customer's phone number:\")\n",
        "phone=input(\"Phone number: \")\n",
        "print(\"Enter customer's email address:\")\n",
        "email=input(\"Email: \")\n",
        "#price of a used car = 10000\n",
        "price = 10000\n",
        "#has_good_credit=True\n",
        "#has_good_credit = True\n",
        "#good_credit=600\n",
        "#has_bad_credit = False\n",
        "\n",
        "print(\"Enter credit score\")\n",
        "creditscore=input(\"creditscore: \")\n",
        "\n",
        "if int(creditscore) >= 600:\n",
        "    downpayment1=(0.1 * price)\n",
        "    print(\"-----------------------------\")\n",
        "    print(\"Down Payment: \", downpayment1)\n",
        "    print(\"Full Names: \", fullnames)\n",
        "    print(\"Phone: \", phone)\n",
        "    print(\"Email: \", email)\n",
        "else:\n",
        "    #print(\"\")\n",
        "    print(\"-----------------------------\")\n",
        "    print(\"Full Names: \", fullnames)\n",
        "    print(\"Phone: \", phone)\n",
        "    print(\"Email: \", email)\n",
        "    downpayment2=(0.2 * price)\n",
        "    print(\"Down Payment:\", downpayment2)"
      ],
      "execution_count": null,
      "outputs": []
    }
  ]
}